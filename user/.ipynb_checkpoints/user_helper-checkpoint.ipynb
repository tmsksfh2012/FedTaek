{
 "cells": [
  {
   "cell_type": "code",
   "execution_count": 1,
   "id": "40011d82-38c4-42c2-a19a-2c6a9fe5b7dd",
   "metadata": {},
   "outputs": [
    {
     "ename": "ModuleNotFoundError",
     "evalue": "No module named 'Data_Site'",
     "output_type": "error",
     "traceback": [
      "\u001b[0;31m---------------------------------------------------------------------------\u001b[0m",
      "\u001b[0;31mModuleNotFoundError\u001b[0m                       Traceback (most recent call last)",
      "Cell \u001b[0;32mIn[1], line 2\u001b[0m\n\u001b[1;32m      1\u001b[0m \u001b[38;5;28;01mimport\u001b[39;00m \u001b[38;5;21;01msyft\u001b[39;00m \u001b[38;5;28;01mas\u001b[39;00m \u001b[38;5;21;01msy\u001b[39;00m\n\u001b[0;32m----> 2\u001b[0m \u001b[38;5;28;01mimport\u001b[39;00m \u001b[38;5;21;01mData_Site\u001b[39;00m\n",
      "\u001b[0;31mModuleNotFoundError\u001b[0m: No module named 'Data_Site'"
     ]
    }
   ],
   "source": [
    "import syft as sy"
   ]
  },
  {
   "cell_type": "code",
   "execution_count": 29,
   "id": "3f6fe64a-152d-4bd3-a07d-6ebf7af259a1",
   "metadata": {},
   "outputs": [],
   "source": [
    "def launch(server_name):\n",
    "    global data_site\n",
    "    data_site = sy.orchestra.launch(name=server_name)\n",
    "    return data_site"
   ]
  },
  {
   "cell_type": "code",
   "execution_count": 30,
   "id": "5909ee47-0e62-470f-b6cd-fbd3f6691d5c",
   "metadata": {},
   "outputs": [],
   "source": [
    "def login(**params):\n",
    "    email = params.get('email')\n",
    "    password = params.get('password')\n",
    "\n",
    "    client = data_site.login(email=email, password=password)\n",
    "    return client"
   ]
  },
  {
   "cell_type": "code",
   "execution_count": 27,
   "id": "92e84520-c3ba-45a0-b945-4def853f10ea",
   "metadata": {},
   "outputs": [],
   "source": [
    "def register(**params):\n",
    "    client = params.get('client')\n",
    "    email = params.get('email')\n",
    "    name = params.get('name')\n",
    "    password = params.get('password')\n",
    "    password_verify = params.get('password_verify')\n",
    "    institution = params.get('institution')\n",
    "    website = params.get('website')\n",
    "    \n",
    "    new_account_info = client.users.create(\n",
    "        email = email,\n",
    "        name = name,\n",
    "        password = password,\n",
    "        password_verify = password_verify,\n",
    "        institution = institution,\n",
    "        website = website\n",
    "    )"
   ]
  },
  {
   "cell_type": "code",
   "execution_count": 28,
   "id": "edf39012-44ce-4dda-b573-8a9dc2b2e448",
   "metadata": {},
   "outputs": [],
   "source": [
    "def update(**params):\n",
    "    client = params.get('client')\n",
    "    email = params.get('email')\n",
    "    name = params.get('name')\n",
    "    password = params.get('password')\n",
    "    institution = params.get('institution')\n",
    "    website = params.get('website')\n",
    "\n",
    "    if email is not None:\n",
    "        client.account.set_email(email)\n",
    "\n",
    "    if password is not None:\n",
    "        client.account.set_password(password)\n",
    "    \n",
    "    new_account_info = client.users.create(\n",
    "        name = name,\n",
    "        institution = institution,\n",
    "        website = website\n",
    "    )"
   ]
  }
 ],
 "metadata": {
  "kernelspec": {
   "display_name": "Python 3 (ipykernel)",
   "language": "python",
   "name": "python3"
  },
  "language_info": {
   "codemirror_mode": {
    "name": "ipython",
    "version": 3
   },
   "file_extension": ".py",
   "mimetype": "text/x-python",
   "name": "python",
   "nbconvert_exporter": "python",
   "pygments_lexer": "ipython3",
   "version": "3.11.10"
  }
 },
 "nbformat": 4,
 "nbformat_minor": 5
}
