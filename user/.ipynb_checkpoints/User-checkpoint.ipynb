{
 "cells": [
  {
   "cell_type": "code",
   "execution_count": 42,
   "id": "e5129558-5398-4c1c-87a7-2797d67f459c",
   "metadata": {},
   "outputs": [],
   "source": [
    "import import_ipynb\n",
    "import os\n",
    "import sys\n",
    "import syft as sy\n",
    "\n",
    "module_path = os.path.abspath(os.path.join('..'))\n",
    "if module_path not in sys.path:\n",
    "    sys.path.append(module_path)\n",
    "\n",
    "import data.Data as Data"
   ]
  },
  {
   "cell_type": "code",
   "execution_count": 43,
   "id": "a5e6b6ff-648c-4eb2-8ea7-e606a623f6a5",
   "metadata": {},
   "outputs": [],
   "source": [
    "class User():\n",
    "    def __init__(self,**params):\n",
    "        self.email           = params.get('email')\n",
    "        self.name            = params.get('name')\n",
    "        self.password_verify = params.get('password_verify')\n",
    "        self.password        = params.get('password')\n",
    "        self.institution     = params.get('institution')\n",
    "        self.website         = params.get('website')\n",
    "        \n",
    "    def register(self, cls, **params):\n",
    "        new_account_info = cls.register(\n",
    "            email = params.get('email'),\n",
    "            name = params.get('name'),\n",
    "            password = params.get('password'),\n",
    "            password_verify = params.get('password_verify'),\n",
    "            institution = params.get('institution'),\n",
    "            website = params.get('website')\n",
    "        )\n",
    "\n",
    "    def login(self, cls):    \n",
    "        user_manager = cls.login(email=self.email, password=self.password)\n",
    "\n",
    "    def update(self, **params):\n",
    "        self.name        = params.get('name') if params.get('name') is not None else self.name\n",
    "        self.institution = params.get('institution') if params.get('institution') is not None else self.institution\n",
    "        self.website     = params.get('website') if params.get('website') is not None else self.website\n",
    "        self.email       = params.get('email') if params.get('email') is not None else self.email\n",
    "        self.password    = params.get('password') if params.get('password') is not None else self.password\n",
    "\n",
    "        cls.update(params.get('name'),\n",
    "                  params.get('institution'),\n",
    "                  params.get('website'),\n",
    "                  params.get('email'),\n",
    "                  params.get('password')\n",
    "                  )"
   ]
  },
  {
   "cell_type": "code",
   "execution_count": null,
   "id": "ffe693ac-4da0-40ca-bb74-7a2fc45bba3f",
   "metadata": {},
   "outputs": [],
   "source": []
  }
 ],
 "metadata": {
  "kernelspec": {
   "display_name": "Python 3 (ipykernel)",
   "language": "python",
   "name": "python3"
  },
  "language_info": {
   "codemirror_mode": {
    "name": "ipython",
    "version": 3
   },
   "file_extension": ".py",
   "mimetype": "text/x-python",
   "name": "python",
   "nbconvert_exporter": "python",
   "pygments_lexer": "ipython3",
   "version": "3.11.10"
  }
 },
 "nbformat": 4,
 "nbformat_minor": 5
}
