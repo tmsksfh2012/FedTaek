{
 "cells": [
  {
   "cell_type": "code",
   "execution_count": null,
   "id": "07c80224-b1d8-4653-a251-2fd4749f0833",
   "metadata": {},
   "outputs": [],
   "source": [
    "def import_helper(path):\n",
    "    package_path = os.path.join(os.getcwd(), path)\n",
    "    if package_path not in sys.path:\n",
    "        sys.path.append(package_path)\n",
    "\n",
    "    modules = glob.glob(os.path.join(package_path, '*.ipynb'))\n",
    "    for module_file in modules:\n",
    "        module_name = os.path.basename(module_file)[:-6]  # deleting .ipynb\n",
    "        if module_name.isidentifier():  # verifing module name\n",
    "            full_module_name = f\"{path}.{module_name}\"\n",
    "            # if this module already exists, reload\n",
    "            if full_module_name in sys.modules:\n",
    "                module = sys.modules[full_module_name]\n",
    "                importlib.reload(module)\n",
    "            # if not, import\n",
    "            else:\n",
    "                module = importlib.import_module(full_module_name)\n",
    "            # adding on global namespace\n",
    "            globals()[module_name] = module"
   ]
  }
 ],
 "metadata": {
  "kernelspec": {
   "display_name": "Python 3 (ipykernel)",
   "language": "python",
   "name": "python3"
  },
  "language_info": {
   "codemirror_mode": {
    "name": "ipython",
    "version": 3
   },
   "file_extension": ".py",
   "mimetype": "text/x-python",
   "name": "python",
   "nbconvert_exporter": "python",
   "pygments_lexer": "ipython3",
   "version": "3.11.10"
  }
 },
 "nbformat": 4,
 "nbformat_minor": 5
}
