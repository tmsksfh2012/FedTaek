{
 "cells": [
  {
   "cell_type": "code",
   "execution_count": 5,
   "id": "db66e6fe-fc22-4cd8-8668-99c393abf4bf",
   "metadata": {},
   "outputs": [],
   "source": [
    "import import_ipynb\n",
    "import os\n",
    "import sys\n",
    "import syft as sy"
   ]
  },
  {
   "cell_type": "code",
   "execution_count": 6,
   "id": "a2963816-9855-42ba-aff5-f032403953d9",
   "metadata": {},
   "outputs": [],
   "source": [
    "class Data_Site():\n",
    "    def __init__(self, server_name):\n",
    "        self.server_name  = server_name\n",
    "        self.data_site    = None\n",
    "        self.user_manager = None\n",
    "    \n",
    "    def launch(self):\n",
    "        self.data_site = sy.orchestra.launch(name = self.server_name)\n",
    "\n",
    "    def register(self, **params):\n",
    "        new_account_info = self.admin.users.create(\n",
    "            email = self.email,\n",
    "            name = self.name,\n",
    "            password = self.password,\n",
    "            password_verify = self.password_verify,\n",
    "            institution = self.institution,\n",
    "            website = self.website\n",
    "        )\n",
    "\n",
    "    def login_admin(self, email, password):    \n",
    "        admin = self.data_site.login(email = email, password = password)\n",
    "        self.admin = admin\n",
    "\n",
    "    def update(self, **params):\n",
    "        email = params.get('email')\n",
    "        password = params.get('password')\n",
    "    \n",
    "        if email is not None:\n",
    "            admin.account.set_email(self.email)\n",
    "    \n",
    "        if password is not None:\n",
    "            admin.account.set_password(password)\n",
    "        \n",
    "        new_account_info = self.client.users.create(\n",
    "            name        = self.name,\n",
    "            institution = self.institution,\n",
    "            website     = self.website\n",
    "        )"
   ]
  },
  {
   "cell_type": "code",
   "execution_count": null,
   "id": "2ef68c5a-130c-464a-af60-9e3fff1aa433",
   "metadata": {},
   "outputs": [],
   "source": []
  }
 ],
 "metadata": {
  "kernelspec": {
   "display_name": "Python 3 (ipykernel)",
   "language": "python",
   "name": "python3"
  },
  "language_info": {
   "codemirror_mode": {
    "name": "ipython",
    "version": 3
   },
   "file_extension": ".py",
   "mimetype": "text/x-python",
   "name": "python",
   "nbconvert_exporter": "python",
   "pygments_lexer": "ipython3",
   "version": "3.11.10"
  }
 },
 "nbformat": 4,
 "nbformat_minor": 5
}
