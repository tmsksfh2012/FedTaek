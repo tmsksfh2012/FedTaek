{
 "cells": [
  {
   "cell_type": "code",
   "execution_count": 1,
   "id": "0690d395-fa7b-4c5e-90fa-23c44d3e9bc3",
   "metadata": {},
   "outputs": [],
   "source": [
    "import syft as sy"
   ]
  },
  {
   "cell_type": "code",
   "execution_count": 3,
   "id": "b6a969ef-e7b7-4b97-8fbc-ce0d603eb6df",
   "metadata": {},
   "outputs": [],
   "source": [
    "def create_dataset(**params):\n",
    "    dataset_name = params.get('dataset_name')\n",
    "    description = params.get('description')\n",
    "    summary = params.get('summary')\n",
    "    citation = params.get('citation')\n",
    "    url = params.get('url')\n",
    "    \n",
    "    # Dataset creation\n",
    "    return sy.Dataset(\n",
    "        name=dataset_name,\n",
    "        description=description,\n",
    "        summary=summary,\n",
    "        citation=citation,\n",
    "        url=url\n",
    "    )"
   ]
  },
  {
   "cell_type": "code",
   "execution_count": 4,
   "id": "9160feae-d13a-4975-96a3-bd63ee47c0e5",
   "metadata": {},
   "outputs": [],
   "source": [
    "def create_asset(**params):\n",
    "    name = params.get('dataset_name')\n",
    "    data = params.get('data')\n",
    "    mock = params.get('mock')\n",
    "    citation = params.get('citation')\n",
    "    url = params.get('url')\n",
    "    \n",
    "    # Asset creation\n",
    "    return sy.Asset(\n",
    "        name = name,\n",
    "        data = data, # real data\n",
    "        mock = mock  # mock data\n",
    "    )"
   ]
  },
  {
   "cell_type": "code",
   "execution_count": null,
   "id": "17c4df26-4927-4038-abc0-0f0b6854e908",
   "metadata": {},
   "outputs": [],
   "source": []
  }
 ],
 "metadata": {
  "kernelspec": {
   "display_name": "Python 3 (ipykernel)",
   "language": "python",
   "name": "python3"
  },
  "language_info": {
   "codemirror_mode": {
    "name": "ipython",
    "version": 3
   },
   "file_extension": ".py",
   "mimetype": "text/x-python",
   "name": "python",
   "nbconvert_exporter": "python",
   "pygments_lexer": "ipython3",
   "version": "3.11.10"
  }
 },
 "nbformat": 4,
 "nbformat_minor": 5
}
